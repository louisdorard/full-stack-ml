{
 "cells": [
  {
   "cell_type": "markdown",
   "metadata": {},
   "source": [
    "# Experiments\n",
    "\n",
    "This Bash notebook can be used to run notebook-based experiments, locally or on Gradient: notebooks are run as scripts by papermill."
   ]
  },
  {
   "cell_type": "code",
   "execution_count": null,
   "metadata": {},
   "outputs": [],
   "source": [
    "export NOTEBOOK_NAME=Version-information"
   ]
  },
  {
   "cell_type": "code",
   "execution_count": null,
   "metadata": {},
   "outputs": [],
   "source": [
    "export CMD_LOCAL=\"papermill $NOTEBOOK_NAME.ipynb output/$NOTEBOOK_NAME.ipynb\"\n",
    "export CMD_DOCKER=\"cd docker; docker-compose run full-stack-ml $CMD_LOCAL\"\n",
    "export CMD_CLOUD_LOCAL=\"papermill $NOTEBOOK_NAME.ipynb /artifacts/$NOTEBOOK_NAME.ipynb\""
   ]
  },
  {
   "cell_type": "markdown",
   "metadata": {},
   "source": [
    "## Run with local Python environment"
   ]
  },
  {
   "cell_type": "code",
   "execution_count": null,
   "metadata": {},
   "outputs": [],
   "source": [
    "bash -c \"$CMD_LOCAL\""
   ]
  },
  {
   "cell_type": "markdown",
   "metadata": {},
   "source": [
    "## Run with Docker "
   ]
  },
  {
   "cell_type": "code",
   "execution_count": null,
   "metadata": {},
   "outputs": [],
   "source": [
    "bash -c \"$CMD_DOCKER\""
   ]
  },
  {
   "cell_type": "markdown",
   "metadata": {},
   "source": [
    "## Run experiment on Cloud\n",
    "\n",
    "Using Gradient experiments with the following options:\n",
    "\n",
    "* `--name` gives the name of the experiment\n",
    "* `--machineType`: see Gradient's [instance types](https://docs.paperspace.com/gradient/instances/instance-types)\n",
    "* `--experimentEnv` allows to specify [environment variables](https://docs.paperspace.com/gradient/experiments/using-experiments/environment-variables)\n",
    "* `--workspace`: setting it to the current directory (`./`) will upload the contents of this directory to the instance used for this experiment, at `/paperspace/`; an alternative is to use [`--workspaceRef`](https://docs.paperspace.com/gradient/experiments/using-experiments/git-commit-tracking#example)\n",
    "* `--command`: this is executed from `/paperspace/`"
   ]
  },
  {
   "cell_type": "code",
   "execution_count": null,
   "metadata": {},
   "outputs": [],
   "source": [
    "gradient experiments run singlenode \\\n",
    "--name version-information \\\n",
    "--projectId $GRADIENT_PROJECT_ID \\\n",
    "--machineType C3 \\\n",
    "--container louisdorard/full-stack-ml \\\n",
    "--experimentEnv \"{\\\"DATA_PATH\\\":\\\"/storage/data/\\\"}\" \\\n",
    "--workspace ./ \\\n",
    "--command $CMD_CLOUD_LOCAL"
   ]
  },
  {
   "cell_type": "code",
   "execution_count": null,
   "metadata": {},
   "outputs": [],
   "source": [
    "gradient jobs artifacts download \\\n",
    "--jobId ...\n",
    "--destinationDir output/"
   ]
  },
  {
   "cell_type": "markdown",
   "metadata": {},
   "source": [
    "[Gradient documentation](https://docs.paperspace.com/gradient/)"
   ]
  },
  {
   "cell_type": "markdown",
   "metadata": {},
   "source": [
    "TODO: download result from artifact and move to `output/`\n",
    "\n",
    "TODO: use `jobs create` or `run` instead of `experiments run`?"
   ]
  },
  {
   "cell_type": "markdown",
   "metadata": {},
   "source": [
    "## Work in Process: turn this into bash script\n",
    "\n",
    "`NOTEBOOK_NAME` and `EXEC_MODE` would be arguments of this script"
   ]
  },
  {
   "cell_type": "code",
   "execution_count": null,
   "metadata": {},
   "outputs": [],
   "source": [
    "case $EXEC_MODE in\n",
    "    docker) CMD=$CMD_DOCKER\n",
    "    cloud) CMD=...\n",
    "    *) CMD=$CMD_LOCAL\n",
    "esac"
   ]
  }
 ],
 "metadata": {
  "kernelspec": {
   "display_name": "Bash",
   "language": "bash",
   "name": "bash"
  },
  "language_info": {
   "codemirror_mode": "shell",
   "file_extension": ".sh",
   "mimetype": "text/x-sh",
   "name": "bash"
  },
  "toc": {
   "base_numbering": 1,
   "nav_menu": {},
   "number_sections": false,
   "sideBar": true,
   "skip_h1_title": true,
   "title_cell": "Table of Contents",
   "title_sidebar": "Contents",
   "toc_cell": false,
   "toc_position": {},
   "toc_section_display": true,
   "toc_window_display": false
  },
  "varInspector": {
   "cols": {
    "lenName": 16,
    "lenType": 16,
    "lenVar": 40
   },
   "kernels_config": {
    "python": {
     "delete_cmd_postfix": "",
     "delete_cmd_prefix": "del ",
     "library": "var_list.py",
     "varRefreshCmd": "print(var_dic_list())"
    },
    "r": {
     "delete_cmd_postfix": ") ",
     "delete_cmd_prefix": "rm(",
     "library": "var_list.r",
     "varRefreshCmd": "cat(var_dic_list()) "
    }
   },
   "types_to_exclude": [
    "module",
    "function",
    "builtin_function_or_method",
    "instance",
    "_Feature"
   ],
   "window_display": false
  }
 },
 "nbformat": 4,
 "nbformat_minor": 4
}
