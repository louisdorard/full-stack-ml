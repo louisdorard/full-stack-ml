{
 "cells": [
  {
   "cell_type": "markdown",
   "metadata": {},
   "source": [
    "Gradient documentation: https://docs.paperspace.com/gradient/tutorials/train-a-model-with-the-cli\n",
    "\n",
    "[Environment variables](https://docs.paperspace.com/gradient/experiments/using-experiments/environment-variables)"
   ]
  },
  {
   "cell_type": "code",
   "execution_count": null,
   "metadata": {},
   "outputs": [],
   "source": [
    "export PROJECT_ID='prgpuip6s'"
   ]
  },
  {
   "cell_type": "code",
   "execution_count": null,
   "metadata": {},
   "outputs": [],
   "source": [
    "gradient experiments run singlenode \\\n",
    "--name version-information \\\n",
    "--projectId $PROJECT_ID \\\n",
    "--machineType C3 \\\n",
    "--container louisdorard/full-stack-ml \\\n",
    "--experimentEnv \"{\\\"DATA_PATH\\\":'/storage/data/'}\"\n",
    "--command 'papermill Version-information.ipynb /storage/Version-information.ipynb' \\"
   ]
  },
  {
   "cell_type": "markdown",
   "metadata": {},
   "source": [
    "--command 'papermill 01-Online-Learning-SGD.ipynb output/01-Online-Learning-SGD.ipynb' \\\n",
    "\n",
    "Also see workspaceRef parameter (https://docs.paperspace.com/gradient/experiments/using-experiments/git-commit-tracking#example)"
   ]
  },
  {
   "cell_type": "code",
   "execution_count": null,
   "metadata": {},
   "outputs": [],
   "source": []
  }
 ],
 "metadata": {
  "kernelspec": {
   "display_name": "Bash",
   "language": "bash",
   "name": "bash"
  },
  "language_info": {
   "codemirror_mode": "shell",
   "file_extension": ".sh",
   "mimetype": "text/x-sh",
   "name": "bash"
  },
  "toc": {
   "base_numbering": 1,
   "nav_menu": {},
   "number_sections": false,
   "sideBar": true,
   "skip_h1_title": true,
   "title_cell": "Table of Contents",
   "title_sidebar": "Contents",
   "toc_cell": false,
   "toc_position": {},
   "toc_section_display": true,
   "toc_window_display": false
  },
  "varInspector": {
   "cols": {
    "lenName": 16,
    "lenType": 16,
    "lenVar": 40
   },
   "kernels_config": {
    "python": {
     "delete_cmd_postfix": "",
     "delete_cmd_prefix": "del ",
     "library": "var_list.py",
     "varRefreshCmd": "print(var_dic_list())"
    },
    "r": {
     "delete_cmd_postfix": ") ",
     "delete_cmd_prefix": "rm(",
     "library": "var_list.r",
     "varRefreshCmd": "cat(var_dic_list()) "
    }
   },
   "types_to_exclude": [
    "module",
    "function",
    "builtin_function_or_method",
    "instance",
    "_Feature"
   ],
   "window_display": false
  }
 },
 "nbformat": 4,
 "nbformat_minor": 4
}
