{
 "cells": [
  {
   "cell_type": "markdown",
   "metadata": {
    "slideshow": {
     "slide_type": "slide"
    }
   },
   "source": [
    "# Hyper-parameter tuning with Random Search\n",
    "\n",
    "All hyper-parameters that influence the learning are searched simultaneously (except for the number of estimators, which poses a time / quality tradeoff)."
   ]
  },
  {
   "cell_type": "markdown",
   "metadata": {
    "slideshow": {
     "slide_type": "slide"
    }
   },
   "source": [
    "## Notebook variables\n",
    "\n",
    "(Can be accessed by papermill)"
   ]
  },
  {
   "cell_type": "code",
   "execution_count": null,
   "metadata": {
    "tags": [
     "parameters"
    ]
   },
   "outputs": [],
   "source": [
    "EVALS = 4 # the number of evaluations roughly determines how long search procedures will take; this value is just for tests, it should be increased for meaningful results!\n",
    "DATASET = \"digits\" # \"digits\" (rather small, good to start running experiments) or \"credit\" (bigger)\n",
    "FOLDS = 3 # smaller values will make the evaluation quicker; recommended values are between 3 and 10\n",
    "NTREES = 10 # reasonable values between 10 and 100; this has an impact on the time an evaluation takes\n",
    "ESTIMATOR = \"rf\" # \"rf\" or \"xgb\"\n",
    "HP_DIST = { # this is for rf; adapt for xgb\n",
    "    \"max_depth\": {\n",
    "        \"type\": \"int\",\n",
    "        \"min\": 2,\n",
    "        \"max\": 11\n",
    "    },\n",
    "    \"max_features\": {\n",
    "        \"type\": \"float\",\n",
    "        \"min\": 0.1,\n",
    "        \"max\": 1.0\n",
    "    },\n",
    "    \"bootstrap\": {\n",
    "        \"type\": \"choice\",\n",
    "        \"values\": [True, False]\n",
    "    }\n",
    "}\n",
    "SCORING = \"neg_log_loss\" # negative log likelihood\n",
    "SEED = 42 # for reproducibility of results"
   ]
  },
  {
   "cell_type": "markdown",
   "metadata": {
    "slideshow": {
     "slide_type": "slide"
    }
   },
   "source": [
    "## Default model\n",
    "\n",
    "Initialize an empty model with specified number of trees (`NTREES`) and random state (`SEED`), and with default hyper-parameter values."
   ]
  },
  {
   "cell_type": "code",
   "execution_count": null,
   "metadata": {},
   "outputs": [],
   "source": [
    "from sklearn.ensemble import RandomForestClassifier\n",
    "from xgboost import XGBClassifier\n",
    "\n",
    "if (ESTIMATOR==\"rf\"):\n",
    "    default_params = {\"n_estimators\": NTREES, \"random_state\": SEED}\n",
    "    default_model = RandomForestClassifier(**default_params)\n",
    "elif (ESTIMATOR==\"xgb\"):\n",
    "    default_params = {\"n_estimators\": NTREES, \"seed\": SEED}\n",
    "    default_model = XGBClassifier(**default_params)\n",
    "    if (DATASET==\"credit\"):\n",
    "        default_params.update({\"objective\": \"multi:softprob\"})"
   ]
  },
  {
   "cell_type": "markdown",
   "metadata": {
    "slideshow": {
     "slide_type": "slide"
    }
   },
   "source": [
    "## Hyper-parameter distributions\n",
    "\n",
    "Create distributions based on values stored in `HP_DIST`."
   ]
  },
  {
   "cell_type": "code",
   "execution_count": null,
   "metadata": {},
   "outputs": [],
   "source": [
    "from scipy.stats import randint\n",
    "from scipy.stats import uniform\n",
    "\n",
    "hp = {}\n",
    "for v in HP_DIST.keys():\n",
    "    if HP_DIST[v]['type']==\"int\":\n",
    "        hp[v] = randint(HP_DIST[v]['min'], HP_DIST[v]['max'])\n",
    "    elif HP_DIST[v]['type']==\"float\":\n",
    "        hp[v] = uniform(loc=HP_DIST[v]['min'], scale=(HP_DIST[v]['max']-HP_DIST[v]['min']))\n",
    "    elif HP_DIST[v]['type']==\"choice\":\n",
    "        hp[v] = HP_DIST[v][\"values\"]"
   ]
  },
  {
   "cell_type": "markdown",
   "metadata": {
    "slideshow": {
     "slide_type": "slide"
    }
   },
   "source": [
    "## Search\n",
    "\n",
    "Define the base model, hyper-parameter distributions, number and type of evaluations to be performed for the search"
   ]
  },
  {
   "cell_type": "code",
   "execution_count": null,
   "metadata": {},
   "outputs": [],
   "source": [
    "from sklearn.model_selection import RandomizedSearchCV\n",
    "\n",
    "random_search = RandomizedSearchCV(\n",
    "    default_model,\n",
    "    param_distributions=hp,\n",
    "    n_iter=EVALS,\n",
    "    scoring=SCORING,\n",
    "    cv=FOLDS,\n",
    "    iid=False,\n",
    "    error_score='raise',\n",
    "    random_state=SEED,\n",
    "    n_jobs=-1,\n",
    "    verbose=1\n",
    ")"
   ]
  },
  {
   "cell_type": "markdown",
   "metadata": {
    "slideshow": {
     "slide_type": "slide"
    }
   },
   "source": [
    "## Data\n",
    "\n",
    "Import data and prepare X and y (inputs and outputs)"
   ]
  },
  {
   "cell_type": "code",
   "execution_count": null,
   "metadata": {},
   "outputs": [],
   "source": [
    "if (DATASET==\"digits\"):\n",
    "    from sklearn.datasets import load_digits\n",
    "    digits = load_digits()\n",
    "    X, y = digits.data, digits.target\n",
    "elif (DATASET==\"credit\"):\n",
    "    from mlxtend.data.kaggle_gmsc import kaggle_gmsc_data_nomissing\n",
    "    X, y = kaggle_gmsc_data_nomissing()"
   ]
  },
  {
   "cell_type": "markdown",
   "metadata": {
    "slideshow": {
     "slide_type": "slide"
    }
   },
   "source": [
    "## Fit\n",
    "\n",
    "Run (and time) the search"
   ]
  },
  {
   "cell_type": "code",
   "execution_count": null,
   "metadata": {},
   "outputs": [],
   "source": [
    "%time random_search.fit(X, y)"
   ]
  },
  {
   "cell_type": "markdown",
   "metadata": {
    "slideshow": {
     "slide_type": "subslide"
    }
   },
   "source": [
    "Save results"
   ]
  },
  {
   "cell_type": "code",
   "execution_count": null,
   "metadata": {
    "slideshow": {
     "slide_type": "-"
    }
   },
   "outputs": [],
   "source": [
    "from joblib import dump\n",
    "dump(random_search, \"output/random_search_\" + DATASET + \".joblib\")"
   ]
  },
  {
   "cell_type": "markdown",
   "metadata": {
    "slideshow": {
     "slide_type": "slide"
    }
   },
   "source": [
    "Review results"
   ]
  },
  {
   "cell_type": "code",
   "execution_count": null,
   "metadata": {
    "slideshow": {
     "slide_type": "-"
    }
   },
   "outputs": [],
   "source": [
    "from mlxtend.evaluate.hyper_search import hyper_search_report\n",
    "hyper_search_report(random_search, n_top=3)"
   ]
  }
 ],
 "metadata": {
  "jupytext": {
   "formats": "ipynb,scripts//py"
  },
  "kernelspec": {
   "display_name": "full-stack-ml",
   "language": "python",
   "name": "full-stack-ml"
  },
  "language_info": {
   "codemirror_mode": {
    "name": "ipython",
    "version": 3
   },
   "file_extension": ".py",
   "mimetype": "text/x-python",
   "name": "python",
   "nbconvert_exporter": "python",
   "pygments_lexer": "ipython3",
   "version": "3.6.7"
  }
 },
 "nbformat": 4,
 "nbformat_minor": 4
}
