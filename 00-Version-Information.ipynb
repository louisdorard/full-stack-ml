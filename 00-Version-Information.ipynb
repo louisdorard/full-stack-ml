{
 "cells": [
  {
   "cell_type": "markdown",
   "metadata": {},
   "source": [
    "# Version Information\n",
    "\n",
    "Check that you're using the correct versions of the core libraries needed for this workshop:"
   ]
  },
  {
   "cell_type": "code",
   "execution_count": null,
   "metadata": {},
   "outputs": [],
   "source": [
    "%load_ext version_information"
   ]
  },
  {
   "cell_type": "code",
   "execution_count": null,
   "metadata": {},
   "outputs": [],
   "source": [
    "%version_information sklearn, tensorflow"
   ]
  },
  {
   "cell_type": "code",
   "execution_count": null,
   "metadata": {},
   "outputs": [],
   "source": [
    "%env DATA_PATH"
   ]
  }
 ],
 "metadata": {
  "jupytext": {
   "formats": "ipynb,scripts//py"
  },
  "kernelspec": {
   "display_name": "full-stack-ml",
   "language": "python",
   "name": "full-stack-ml"
  }
 },
 "nbformat": 4,
 "nbformat_minor": 4
}
